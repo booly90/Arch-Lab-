{
  "cells": [
    {
      "cell_type": "code",
      "execution_count": 47,
      "metadata": {
        "id": "hbAVxDDLnfxv"
      },
      "outputs": [],
      "source": [
        "def std_logic2hex(wave_list_line):\n",
        "  for i in range(1,len(wave_list_line)-1):\n",
        "    if 'X' in wave_list_line[i]:\n",
        "      wave_list_line[i] = 'X'\n",
        "    elif 'U' in wave_list_line[i]:\n",
        "      wave_list_line[i] = 'U'\n",
        "    else:\n",
        "      num_bin_size,num_dec = bin2dec(wave_list_line[i])\n",
        "      num_hex = hex(num_dec)[2:].zfill(num_bin_size//4)\n",
        "      wave_list_line[i] = f'{num_hex}'\n"
      ]
    },
    {
      "cell_type": "code",
      "source": [
        "def std_logic2dec(wave_list_line):\n",
        "  for i in range(1,len(wave_list_line)-1):\n",
        "    if 'X' in wave_list_line[i]:\n",
        "      wave_list_line[i] = 'X'\n",
        "    elif 'U' in wave_list_line[i]:\n",
        "      wave_list_line[i] = 'U'\n",
        "    else:\n",
        "      wave_list_line[i] = bin2dec(wave_list_line[i])\n",
        "      wave_list_line[i] = f'{wave_list_line[i]}'\n"
      ],
      "metadata": {
        "id": "1oNBs8-sYhMu"
      },
      "execution_count": 48,
      "outputs": []
    },
    {
      "cell_type": "code",
      "execution_count": 46,
      "metadata": {
        "id": "0Hgc-LlsdeBj"
      },
      "outputs": [],
      "source": [
        "#-------------------------------------------------------------------------------------------------------\n",
        "#                   bin2dec(num)\n",
        "#-------------------------------------------------------------------------------------------------------\n",
        "\"\"\"newlist = [output_expression(x) for x in oldlist if conditional(x)]\"\"\"\n",
        "\n",
        "def bin2dec(num):   # num is a binary string \n",
        "  \n",
        "  filtered_num = [x for x in num if (x == '1' or x == '0')]\n",
        "  num_bin_int_mirror = [int(x) for x in filtered_num[::-1]]\n",
        "  num_bin_size = len(num_bin_int_mirror)\n",
        "  num_dec = sum([num_bin_int_mirror[i]*2**i for i in range(num_bin_size)])\n",
        "\n",
        "  return num_bin_size,num_dec"
      ]
    },
    {
      "cell_type": "code",
      "execution_count": 11,
      "metadata": {
        "id": "ZV7wsBvr23de"
      },
      "outputs": [],
      "source": [
        "#-------------------------------------------------------------------------------\n",
        "def list_allocate(lst,row_size,col_size,fill_value):\n",
        "  \n",
        "  for i in range(row_size):\n",
        "    temp = [fill_value for i in range(col_size)]\n",
        "    lst.append(temp)\n",
        "#-------------------------------------------------------------------------------"
      ]
    },
    {
      "cell_type": "code",
      "execution_count": 50,
      "metadata": {
        "colab": {
          "base_uri": "https://localhost:8080/"
        },
        "id": "N_Mm1guwjQZx",
        "outputId": "bcdf6467-738f-4376-d637-5b65291bedb2"
      },
      "outputs": [
        {
          "output_type": "stream",
          "name": "stdout",
          "text": [
            "Drive already mounted at /content/drive; to attempt to forcibly remount, call drive.mount(\"/content/drive\", force_remount=True).\n"
          ]
        }
      ],
      "source": [
        "from google.colab import drive\n",
        "drive.mount('/content/drive')\n",
        "#--------------------------------------------- Global Program Parameters ----------------------------------\n",
        "PRE_MODE = 2\n",
        "STD_LOGIC = 0\n",
        "DEC = 1\n",
        "HEX = 2\n",
        "CLK_HALF_PERIOD_ps = 50000  # 50ns\n",
        "clk_hlaf_period_cnt = 0\n",
        "#----------------------------------------------------------------------------------------------------------\n",
        "# Read the Draft.txt\n",
        "wavelist_lst_path = \"/content/drive/My Drive/Data to process/System_wave_list/wave_list.lst\"\n",
        "wavelist_csv_direct_path = \"/content/drive/My Drive/Data to process/System_wave_list/wave_list_direct.csv\"\n",
        "wavelist_csv_transpose_path = \"/content/drive/My Drive/Data to process/System_wave_list/wave_list_transpose.csv\"\n",
        "\n",
        "inputfile = open(wavelist_lst_path, \"r\")\n",
        "outputfile1 = open(wavelist_csv_direct_path, \"w\",encoding = 'utf-8-sig')\n",
        "outputfile2 = open(wavelist_csv_transpose_path, \"w\",encoding = 'utf-8-sig')\n",
        "\n",
        "\n",
        "wave_list_matrix = []\n",
        "\n",
        "for line in inputfile:\n",
        "  temp3 = []\n",
        "  temp1 = line.split(' ')\n",
        "  temp2 = [temp1[i].strip(' ') for i in range(len(temp1))]\n",
        "  [temp3.append(temp2[i]) for i in range(len(temp2)) if temp2[i] !='']\n",
        "\n",
        "\n",
        "  if temp3[0] == f'{clk_hlaf_period_cnt}':   \n",
        "    delta_val = temp3[1]\n",
        "    temp3.remove(delta_val)  # remove delta cycle column value\n",
        "    #------------------------------------------------------\n",
        "    if PRE_MODE == DEC:\n",
        "      std_logic2dec(temp3)\n",
        "    elif PRE_MODE == HEX:\n",
        "      std_logic2hex(temp3)\n",
        "    #------------------------------------------------------\n",
        "    half_cycle_line = ','.join(temp3)\n",
        "    wave_list_matrix.append(half_cycle_line)\n",
        "    clk_hlaf_period_cnt += CLK_HALF_PERIOD_ps  # promote clock in half period\n",
        "\n",
        "\n",
        "outputfile1.writelines(wave_list_matrix)\n",
        "\n",
        "\n",
        "\n",
        "# Close file after finish\n",
        "inputfile.close()\n",
        "outputfile1.close()\n",
        "outputfile2.close()\n"
      ]
    },
    {
      "cell_type": "code",
      "execution_count": null,
      "metadata": {
        "colab": {
          "base_uri": "https://localhost:8080/"
        },
        "id": "Ok4PpiFZbmAb",
        "outputId": "1b2bffdf-7353-4d6d-8aca-9e5cecebe46a"
      },
      "outputs": [
        {
          "name": "stdout",
          "output_type": "stream",
          "text": [
            "True\n"
          ]
        }
      ],
      "source": [
        "str=\"Hello, World!\"\n",
        "print(\"World\" in str)\n"
      ]
    },
    {
      "cell_type": "code",
      "source": [
        "num = '00000000000000000000000000001111}'\n",
        "\n",
        "txt = '50800}'\n",
        "\n",
        "x = txt.isdigit()\n",
        "\n",
        "print(\"x = \",x)\n",
        "\n",
        "\n",
        "filtered_num = [x for x in num if (x == '1' or x == '0')]\n",
        "num_bin_int_mirror = [int(x) for x in filtered_num[::-1]]\n",
        "num_bin_size = len(num_bin_int_mirror)\n",
        "num_dec = sum([num_bin_int_mirror[i]*2**i for i in range(num_bin_size)])\n",
        "# num_hex = hex(num_dec)[2:].zfill(num_bin_size//4)\n",
        "num_hex = hex(num_dec)[2:]\n",
        "\n",
        "print(filtered_num)\n",
        "print(num_bin_int_mirror)\n",
        "print(len(num_bin_int_mirror))\n",
        "print(num_dec)\n",
        "print(num_hex)\n",
        "\n"
      ],
      "metadata": {
        "colab": {
          "base_uri": "https://localhost:8080/"
        },
        "id": "SUlozQG8MNja",
        "outputId": "a277f738-e8c2-45a8-a0b9-4b70192c889d"
      },
      "execution_count": 45,
      "outputs": [
        {
          "output_type": "stream",
          "name": "stdout",
          "text": [
            "x =  False\n",
            "['0', '0', '0', '0', '0', '0', '0', '0', '0', '0', '0', '0', '0', '0', '0', '0', '0', '0', '0', '0', '0', '0', '0', '0', '0', '0', '0', '0', '1', '1', '1', '1']\n",
            "[1, 1, 1, 1, 0, 0, 0, 0, 0, 0, 0, 0, 0, 0, 0, 0, 0, 0, 0, 0, 0, 0, 0, 0, 0, 0, 0, 0, 0, 0, 0, 0]\n",
            "32\n",
            "15\n",
            "f\n"
          ]
        }
      ]
    }
  ],
  "metadata": {
    "colab": {
      "name": "wave_list_signals_arrange_script.ipynb",
      "provenance": []
    },
    "kernelspec": {
      "display_name": "Python 3",
      "name": "python3"
    },
    "language_info": {
      "name": "python"
    }
  },
  "nbformat": 4,
  "nbformat_minor": 0
}
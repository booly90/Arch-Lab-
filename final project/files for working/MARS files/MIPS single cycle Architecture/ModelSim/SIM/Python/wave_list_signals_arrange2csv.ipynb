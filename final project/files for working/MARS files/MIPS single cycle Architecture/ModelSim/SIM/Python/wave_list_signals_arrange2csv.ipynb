{
  "cells": [
    {
      "cell_type": "code",
      "execution_count": null,
      "metadata": {
        "id": "hbAVxDDLnfxv"
      },
      "outputs": [],
      "source": [
        "def std_logic2hex(wave_list_line):\n",
        "  for i in range(1,len(wave_list_line)-1):\n",
        "    if 'X' in wave_list_line[i]:\n",
        "      wave_list_line[i] = 'X'\n",
        "    elif 'U' in wave_list_line[i]:\n",
        "      wave_list_line[i] = 'U'\n",
        "    else:\n",
        "      num_bin_size,num_dec = bin2dec(wave_list_line[i])\n",
        "      num_hex = hex(num_dec)[2:].zfill(num_bin_size//4)\n",
        "      wave_list_line[i] = f'{num_hex}'\n"
      ]
    },
    {
      "cell_type": "code",
      "source": [
        "def std_logic2dec(wave_list_line):\n",
        "  for i in range(1,len(wave_list_line)-1):\n",
        "    if 'X' in wave_list_line[i]:\n",
        "      wave_list_line[i] = 'X'\n",
        "    elif 'U' in wave_list_line[i]:\n",
        "      wave_list_line[i] = 'U'\n",
        "    else:\n",
        "      wave_list_line[i] = bin2dec(wave_list_line[i])\n",
        "      wave_list_line[i] = f'{wave_list_line[i]}'\n"
      ],
      "metadata": {
        "id": "1oNBs8-sYhMu"
      },
      "execution_count": null,
      "outputs": []
    },
    {
      "cell_type": "code",
      "execution_count": null,
      "metadata": {
        "id": "0Hgc-LlsdeBj"
      },
      "outputs": [],
      "source": [
        "#-------------------------------------------------------------------------------------------------------\n",
        "#                   bin2dec(num)\n",
        "#-------------------------------------------------------------------------------------------------------\n",
        "\"\"\"newlist = [output_expression(x) for x in oldlist if conditional(x)]\"\"\"\n",
        "\n",
        "def bin2dec(num):   # num is a binary string \n",
        "  \n",
        "  filtered_num = [x for x in num if (x == '1' or x == '0')]\n",
        "  num_bin_int_mirror = [int(x) for x in filtered_num[::-1]]\n",
        "  num_bin_size = len(num_bin_int_mirror)\n",
        "  num_dec = sum([num_bin_int_mirror[i]*2**i for i in range(num_bin_size)])\n",
        "\n",
        "  return num_bin_size,num_dec"
      ]
    },
    {
      "cell_type": "code",
      "execution_count": null,
      "metadata": {
        "id": "ZV7wsBvr23de"
      },
      "outputs": [],
      "source": [
        "#-------------------------------------------------------------------------------\n",
        "def list_allocate(lst,row_size,col_size,fill_value):\n",
        "  \n",
        "  for i in range(row_size):\n",
        "    temp = [fill_value for i in range(col_size)]\n",
        "    lst.append(temp)\n",
        "#-------------------------------------------------------------------------------"
      ]
    },
    {
      "cell_type": "code",
      "execution_count": null,
      "metadata": {
        "colab": {
          "base_uri": "https://localhost:8080/"
        },
        "id": "N_Mm1guwjQZx",
        "outputId": "c99bd59d-8011-4b25-ed0b-145d82984a91"
      },
      "outputs": [
        {
          "output_type": "stream",
          "name": "stdout",
          "text": [
            "Drive already mounted at /content/drive; to attempt to forcibly remount, call drive.mount(\"/content/drive\", force_remount=True).\n",
            "Total Control and Data signals =  73\n"
          ]
        }
      ],
      "source": [
        "from google.colab import drive\n",
        "drive.mount('/content/drive')\n",
        "#--------------------------------------------- Global Program Parameters ----------------------------------\n",
        "PRE_MODE = 2\n",
        "STD_LOGIC = 0\n",
        "DEC = 1\n",
        "HEX = 2\n",
        "CLK_HALF_PERIOD_ps = 50000  # 50ns\n",
        "clk_hlaf_period_cnt = 0\n",
        "signals_counter = 0        # wave_list signals amount\n",
        "#----------------------------------------------------------------------------------------------------------\n",
        "# Read  \"sim_signals_input.txt\" file\n",
        "rawSignalList = \"/content/drive/My Drive/Data to process/System_wave_list/sim_signals_input.txt\"\n",
        "# Read \"wave_list.lst\" file\n",
        "wavelist_lst_path = \"/content/drive/My Drive/Data to process/System_wave_list/wave_list.lst\"\n",
        "\n",
        "wavelist_csv_direct_path = \"/content/drive/My Drive/Data to process/System_wave_list/wave_list_direct.csv\"\n",
        "wavelist_csv_transpose_path = \"/content/drive/My Drive/Data to process/System_wave_list/wave_list_transpose.csv\"\n",
        "\n",
        "inputwavelistfile = open(wavelist_lst_path, \"r\")\n",
        "inputsimsignalsfile = open(rawSignalList, \"r\")\n",
        "\n",
        "outputfile1 = open(wavelist_csv_direct_path, \"w\",encoding = 'utf-8-sig')\n",
        "outputfile2 = open(wavelist_csv_transpose_path, \"w\",encoding = 'utf-8-sig')\n",
        "\n",
        "wave_list_matrix = []\n",
        "aux3 = []\n",
        "#-------------------------------------------------------------------------------\n",
        "aux3.append('Half cycle period')\n",
        "\n",
        "for line in inputsimsignalsfile:\n",
        "  aux1 = line.split()\n",
        "  for i in range(len(aux1)):\n",
        "    aux2=aux1[i].split('/')   \n",
        "    aux3.append(aux2[-2]+'/'+aux2[-1])\n",
        "    signals_counter+=1\n",
        "\n",
        "wave_list_matrix.append(','.join(aux3)+'\\n')\n",
        "print(\"Total Control and Data signals = \",signals_counter)\n",
        "#-------------------------------------------------------------------------------\n",
        "\n",
        "for line in inputwavelistfile:\n",
        "  temp3 = []\n",
        "  temp1 = line.split(' ')\n",
        "  temp2 = [temp1[i].strip(' ') for i in range(len(temp1))]\n",
        "  [temp3.append(temp2[i]) for i in range(len(temp2)) if temp2[i] !='']\n",
        "\n",
        "\n",
        "  if temp3[0] == f'{clk_hlaf_period_cnt}':   \n",
        "    delta_val = temp3[1]\n",
        "    temp3.remove(delta_val)  # remove delta cycle column value\n",
        "    #------------------------------------------------------\n",
        "    if PRE_MODE == DEC:\n",
        "      std_logic2dec(temp3)\n",
        "    elif PRE_MODE == HEX:\n",
        "      std_logic2hex(temp3)\n",
        "    #------------------------------------------------------\n",
        "    half_cycle_line = ','.join(temp3)\n",
        "    wave_list_matrix.append(half_cycle_line)\n",
        "    clk_hlaf_period_cnt += CLK_HALF_PERIOD_ps  # promote clock in half period\n",
        "\n",
        "outputfile1.writelines(wave_list_matrix)\n",
        "#-------------------------------------------------------------------------------\n",
        "data_length = len(wave_list_matrix)\n",
        "data_organization = [n for n in range(data_length)]  # list allocation\n",
        "\n",
        "for i in range(data_length):\n",
        "  data_organization[i] = wave_list_matrix[i][:-1].split(',')\n",
        "\n",
        "row_size = len(data_organization)\n",
        "col_size = len(data_organization[0][:])\n",
        "lst = []\n",
        "list_allocate(lst,col_size,row_size,1)\n",
        "for i in range(row_size):\n",
        "  for j in range(col_size):\n",
        "    lst[j][i] = data_organization[i][j]\n",
        "\n",
        "for k in range(len(lst)):\n",
        "  lst[k] = ','.join(lst[k])\n",
        "\n",
        "for element in lst:\n",
        "  outputfile2.write(element+'\\n')\n",
        "#-------------------------------------------------------------------------------\n",
        "# Close file after finish\n",
        "inputwavelistfile.close()\n",
        "inputsimsignalsfile.close()\n",
        "outputfile1.close()\n",
        "outputfile2.close()\n"
      ]
    },
    {
      "cell_type": "code",
      "execution_count": null,
      "metadata": {
        "colab": {
          "base_uri": "https://localhost:8080/"
        },
        "id": "Ok4PpiFZbmAb",
        "outputId": "62a1a0c8-b757-4aa7-9327-fb39067a3983"
      },
      "outputs": [
        {
          "output_type": "stream",
          "name": "stdout",
          "text": [
            "True\n"
          ]
        }
      ],
      "source": [
        "str=\"Hello, World!\"\n",
        "print(\"World\" in str)\n"
      ]
    },
    {
      "cell_type": "code",
      "source": [
        "num = '00000000000000000000000000001111}'\n",
        "\n",
        "txt = '50800}'\n",
        "\n",
        "x = txt.isdigit()\n",
        "\n",
        "print(\"x = \",x)\n",
        "\n",
        "\n",
        "filtered_num = [x for x in num if (x == '1' or x == '0')]\n",
        "num_bin_int_mirror = [int(x) for x in filtered_num[::-1]]\n",
        "num_bin_size = len(num_bin_int_mirror)\n",
        "num_dec = sum([num_bin_int_mirror[i]*2**i for i in range(num_bin_size)])\n",
        "# num_hex = hex(num_dec)[2:].zfill(num_bin_size//4)\n",
        "num_hex = hex(num_dec)[2:]\n",
        "\n",
        "print(filtered_num)\n",
        "print(num_bin_int_mirror)\n",
        "print(len(num_bin_int_mirror))\n",
        "print(num_dec)\n",
        "print(num_hex)\n",
        "\n"
      ],
      "metadata": {
        "colab": {
          "base_uri": "https://localhost:8080/"
        },
        "id": "SUlozQG8MNja",
        "outputId": "d2fcd8a7-64b1-49d3-a022-b023521f1608"
      },
      "execution_count": null,
      "outputs": [
        {
          "output_type": "stream",
          "name": "stdout",
          "text": [
            "x =  False\n",
            "['0', '0', '0', '0', '0', '0', '0', '0', '0', '0', '0', '0', '0', '0', '0', '0', '0', '0', '0', '0', '0', '0', '0', '0', '0', '0', '0', '0', '1', '1', '1', '1']\n",
            "[1, 1, 1, 1, 0, 0, 0, 0, 0, 0, 0, 0, 0, 0, 0, 0, 0, 0, 0, 0, 0, 0, 0, 0, 0, 0, 0, 0, 0, 0, 0, 0]\n",
            "32\n",
            "15\n",
            "f\n"
          ]
        }
      ]
    }
  ],
  "metadata": {
    "colab": {
      "name": "wave_list_signals_arrange2csv.ipynb",
      "provenance": [],
      "collapsed_sections": []
    },
    "kernelspec": {
      "display_name": "Python 3",
      "name": "python3"
    },
    "language_info": {
      "name": "python"
    }
  },
  "nbformat": 4,
  "nbformat_minor": 0
}